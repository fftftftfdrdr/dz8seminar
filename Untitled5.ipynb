{
  "nbformat": 4,
  "nbformat_minor": 0,
  "metadata": {
    "colab": {
      "provenance": [],
      "authorship_tag": "ABX9TyOvqbJKp2kysijLdoCmqoxp",
      "include_colab_link": true
    },
    "kernelspec": {
      "name": "python3",
      "display_name": "Python 3"
    },
    "language_info": {
      "name": "python"
    }
  },
  "cells": [
    {
      "cell_type": "markdown",
      "metadata": {
        "id": "view-in-github",
        "colab_type": "text"
      },
      "source": [
        "<a href=\"https://colab.research.google.com/github/fftftftfdrdr/dz8seminar/blob/master/Untitled5.ipynb\" target=\"_parent\"><img src=\"https://colab.research.google.com/assets/colab-badge.svg\" alt=\"Open In Colab\"/></a>"
      ]
    },
    {
      "cell_type": "markdown",
      "source": [
        "#| Задание 44 |\n",
        "\n",
        "| В ячейке ниже представлен код генерирующий DataFrame, которая состоит всего из 1 столбца. Ваша задача перевести его в one hot вид. Сможете ли вы это сделать без get_dummies?\n",
        "\n",
        "\n",
        "#import random\n",
        "#lst = ['robot'] * 10\n",
        "#lst += ['human'] * 10\n",
        "#random.shuffle(lst)\n",
        "#data = pd.DataFrame({'whoAmI'lst})\n",
        "#data.head() |"
      ],
      "metadata": {
        "id": "uO7nG_EQ-292"
      }
    },
    {
      "cell_type": "code",
      "execution_count": 1,
      "metadata": {
        "id": "wg7u43fT-VEC"
      },
      "outputs": [],
      "source": [
        "import pandas as pd\n",
        "import numpy as np\n",
        "import random"
      ]
    },
    {
      "cell_type": "code",
      "source": [
        "lst = ['robot'] * 10\n",
        "lst += ['human'] * 10\n",
        "random.shuffle(lst)\n",
        "data = pd.DataFrame({'whoAmI': lst})\n",
        "print(data)"
      ],
      "metadata": {
        "colab": {
          "base_uri": "https://localhost:8080/"
        },
        "id": "UWFocPhF-qgv",
        "outputId": "bbfa43db-6dca-4236-d599-88395220e9d1"
      },
      "execution_count": 2,
      "outputs": [
        {
          "output_type": "stream",
          "name": "stdout",
          "text": [
            "   whoAmI\n",
            "0   human\n",
            "1   robot\n",
            "2   robot\n",
            "3   robot\n",
            "4   robot\n",
            "5   human\n",
            "6   robot\n",
            "7   robot\n",
            "8   human\n",
            "9   robot\n",
            "10  human\n",
            "11  robot\n",
            "12  human\n",
            "13  robot\n",
            "14  robot\n",
            "15  human\n",
            "16  human\n",
            "17  human\n",
            "18  human\n",
            "19  human\n"
          ]
        }
      ]
    },
    {
      "cell_type": "code",
      "source": [
        "data['tmp'] = 1\n",
        "data.set_index([data.index, 'whoAmI'], inplace=True)\n",
        "data = data.unstack(level=-1, fill_value = 0).astype(int)\n",
        "data.columns = data.columns.droplevel()\n",
        "data.columns.name = None\n",
        "print(data)"
      ],
      "metadata": {
        "colab": {
          "base_uri": "https://localhost:8080/"
        },
        "id": "DrMxJmRg-wUF",
        "outputId": "cffb87ea-3d98-4a3c-e891-677aac09f7fb"
      },
      "execution_count": 3,
      "outputs": [
        {
          "output_type": "stream",
          "name": "stdout",
          "text": [
            "    human  robot\n",
            "0       1      0\n",
            "1       0      1\n",
            "2       0      1\n",
            "3       0      1\n",
            "4       0      1\n",
            "5       1      0\n",
            "6       0      1\n",
            "7       0      1\n",
            "8       1      0\n",
            "9       0      1\n",
            "10      1      0\n",
            "11      0      1\n",
            "12      1      0\n",
            "13      0      1\n",
            "14      0      1\n",
            "15      1      0\n",
            "16      1      0\n",
            "17      1      0\n",
            "18      1      0\n",
            "19      1      0\n"
          ]
        }
      ]
    }
  ]
}